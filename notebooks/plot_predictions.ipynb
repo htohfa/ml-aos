{
 "cells": [
  {
   "cell_type": "code",
   "execution_count": null,
   "metadata": {},
   "outputs": [],
   "source": [
    "from ml_aos.lightning import WaveNetSystem, DonutLoader\n",
    "from ml_aos.dataloader import Donuts\n",
    "import matplotlib.pyplot as plt\n",
    "import torch\n",
    "import numpy as np\n",
    "from ml_aos.utils import get_root, convert_zernikes\n"
   ]
  },
  {
   "cell_type": "code",
   "execution_count": null,
   "metadata": {},
   "outputs": [],
   "source": [
    "root = get_root()\n"
   ]
  },
  {
   "cell_type": "code",
   "execution_count": null,
   "metadata": {},
   "outputs": [],
   "source": [
    "for train_donuts in DonutLoader(batch_size=20, shuffle=False).train_dataloader():\n",
    "    break\n",
    "\n",
    "for val_donuts in DonutLoader(batch_size=20, shuffle=False).val_dataloader():\n",
    "    break\n",
    "\n",
    "for test_donuts in DonutLoader(batch_size=20, shuffle=False).test_dataloader():\n",
    "    break\n"
   ]
  },
  {
   "cell_type": "code",
   "execution_count": null,
   "metadata": {},
   "outputs": [],
   "source": [
    "def plot_model_predictions(versions: list, donut_set: str, ymax=0.5):\n",
    "    fig, axes = plt.subplots(5, 4, figsize=(10, 6), dpi=120, constrained_layout=True)\n",
    "\n",
    "    donuts = {\"train\": train_donuts, \"val\": val_donuts, \"test\": test_donuts}[donut_set]\n",
    "\n",
    "    for i, ax in enumerate(axes.flatten()):\n",
    "        ax.set(\n",
    "            xticks=np.arange(4, 23, 4),\n",
    "            xlim=(3.5, 22.5),\n",
    "            ylim=(-ymax, ymax),\n",
    "        )\n",
    "        ax.axhline(0, c=\"silver\", alpha=0.5, lw=1)\n",
    "        ax.plot(\n",
    "            np.arange(4, 23),\n",
    "            convert_zernikes(donuts[\"zernikes\"][i]),\n",
    "            c=\"k\",\n",
    "            lw=1,\n",
    "            ls=\"--\",\n",
    "            zorder=10,\n",
    "            alpha=0.6,\n",
    "        )\n",
    "    for ax in axes[:-1].flatten():\n",
    "        ax.set(xticklabels=[])\n",
    "    for ax in axes[-1]:\n",
    "        ax.set(xlabel=\"Noll index\")\n",
    "    for ax in axes[:, 1:].flatten():\n",
    "        ax.set(yticklabels=[])\n",
    "    for ax in axes[:, 0]:\n",
    "        ax.set(ylabel='$\\Delta$PSF (\")')\n",
    "\n",
    "    fig.suptitle(donut_set, fontsize=18)\n",
    "\n",
    "    for v in np.atleast_1d(versions):\n",
    "        # load the model\n",
    "        ckpt_dir = root / \"lightning_logs\" / f\"version_{v}\" / \"checkpoints\"\n",
    "        assert ckpt_dir.exists(), f\"directory {ckpt_dir} does not exist.\"\n",
    "        ckpt = list(ckpt_dir.glob(\"*\"))[0]\n",
    "        model = WaveNetSystem.load_from_checkpoint(ckpt)\n",
    "\n",
    "        # predict zernikes\n",
    "        zk_pred, _ = model.predict_step(donuts, None)\n",
    "\n",
    "        # loop over axes and plot\n",
    "        for zk, ax in zip(zk_pred, axes.flatten()):\n",
    "            ax.plot(np.arange(4, 23), convert_zernikes(zk.detach()))\n"
   ]
  },
  {
   "cell_type": "code",
   "execution_count": null,
   "metadata": {},
   "outputs": [],
   "source": [
    "plot_model_predictions([0], \"train\")\n"
   ]
  },
  {
   "cell_type": "code",
   "execution_count": null,
   "metadata": {},
   "outputs": [],
   "source": [
    "plot_model_predictions([0], \"val\")\n"
   ]
  },
  {
   "cell_type": "code",
   "execution_count": null,
   "metadata": {},
   "outputs": [],
   "source": [
    "plot_model_predictions([0], \"test\")\n"
   ]
  },
  {
   "attachments": {},
   "cell_type": "markdown",
   "metadata": {},
   "source": [
    "Now let's test the exported model and the `model.forward` interface:"
   ]
  },
  {
   "cell_type": "code",
   "execution_count": null,
   "metadata": {},
   "outputs": [],
   "source": [
    "# load test data without transformations applied\n",
    "test0 = Donuts(\"test\", transform=False)\n"
   ]
  },
  {
   "cell_type": "code",
   "execution_count": null,
   "metadata": {},
   "outputs": [],
   "source": [
    "# load the exported model\n",
    "mlFile = \"/astro/store/epyc/users/jfc20/ml-aos/models/v0_2023-06-19_09:41:19.pt\"\n",
    "model = torch.jit.load(mlFile)\n",
    "model.eval()\n"
   ]
  },
  {
   "cell_type": "code",
   "execution_count": null,
   "metadata": {},
   "outputs": [],
   "source": [
    "fig, axes = plt.subplots(5, 4, figsize=(10, 6), dpi=120, constrained_layout=True)\n",
    "\n",
    "for i, ax in enumerate(axes.flatten()):\n",
    "    donut = test0[i]\n",
    "    zk_true = donut[\"zernikes\"]\n",
    "    with torch.no_grad():\n",
    "        zk_pred = model(\n",
    "            donut[\"image\"][None, ...],\n",
    "            donut[\"field_x\"][None, ...] * 180 / torch.pi,\n",
    "            donut[\"field_y\"][None, ...] * 180 / torch.pi,\n",
    "            donut[\"intrafocal\"][None, ...],\n",
    "            donut[\"band\"][None, ...],\n",
    "        )\n",
    "    zk_pred = zk_pred.detach().cpu().squeeze()\n",
    "\n",
    "    ax.plot(np.arange(4, 23), convert_zernikes(zk_true), c=\"k\", ls=\"--\")\n",
    "    ax.plot(np.arange(4, 23), convert_zernikes(zk_pred / 1000))\n",
    "    ax.axhline(0, c=\"silver\", alpha=0.5, lw=1)\n",
    "    ax.set(xticks=np.arange(4, 23, 4), ylim=(-0.5, 0.5))\n",
    "\n",
    "for ax in axes[:-1].flatten():\n",
    "    ax.set(xticklabels=[])\n",
    "for ax in axes[-1]:\n",
    "    ax.set(xlabel=\"Noll index\")\n",
    "for ax in axes[:, 1:].flatten():\n",
    "    ax.set(yticklabels=[])\n",
    "for ax in axes[:, 0]:\n",
    "    ax.set(ylabel='$\\Delta$PSF (\")')\n"
   ]
  },
  {
   "cell_type": "code",
   "execution_count": null,
   "metadata": {},
   "outputs": [],
   "source": []
  }
 ],
 "metadata": {
  "kernelspec": {
   "display_name": "mlaos",
   "language": "python",
   "name": "python3"
  },
  "language_info": {
   "codemirror_mode": {
    "name": "ipython",
    "version": 3
   },
   "file_extension": ".py",
   "mimetype": "text/x-python",
   "name": "python",
   "nbconvert_exporter": "python",
   "pygments_lexer": "ipython3",
   "version": "3.10.11"
  },
  "orig_nbformat": 4
 },
 "nbformat": 4,
 "nbformat_minor": 2
}
